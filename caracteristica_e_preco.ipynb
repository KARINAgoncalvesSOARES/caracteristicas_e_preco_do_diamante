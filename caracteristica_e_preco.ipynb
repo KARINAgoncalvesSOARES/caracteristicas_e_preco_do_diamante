{
 "cells": [
  {
   "cell_type": "markdown",
   "metadata": {},
   "source": [
    "<h1 align=\"center\">Previsão do Preço do Diamante<h1/>"
   ]
  },
  {
   "cell_type": "markdown",
   "metadata": {},
   "source": []
  },
  {
   "cell_type": "markdown",
   "metadata": {},
   "source": []
  },
  {
   "cell_type": "markdown",
   "metadata": {},
   "source": [
    "O objetivo desta análise é prever o preço dos diamantes com base nas suas características.\n",
    "O conjunto de dados usado para esta análise é o conjunto de dados Diamonds do Kaggle. O conjunto de dados\n",
    "contém 53.940 observações e 10 variáveis. As variáveis ​​são as seguintes:"
   ]
  },
  {
   "cell_type": "code",
   "execution_count": null,
   "metadata": {},
   "outputs": [],
   "source": []
  }
 ],
 "metadata": {
  "language_info": {
   "name": "python"
  }
 },
 "nbformat": 4,
 "nbformat_minor": 2
}
